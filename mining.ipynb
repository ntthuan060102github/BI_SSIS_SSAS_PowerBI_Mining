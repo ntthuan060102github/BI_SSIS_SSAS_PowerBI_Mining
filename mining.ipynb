{
 "cells": [
  {
   "cell_type": "code",
   "execution_count": 1,
   "metadata": {},
   "outputs": [],
   "source": [
    "!python -m venv venv"
   ]
  },
  {
   "cell_type": "code",
   "execution_count": 4,
   "metadata": {},
   "outputs": [],
   "source": [
    "!venv\\Scripts\\activate"
   ]
  },
  {
   "cell_type": "code",
   "execution_count": null,
   "metadata": {},
   "outputs": [],
   "source": [
    "%pip install pyodbc pandas\n",
    "%pip install adodbapi"
   ]
  },
  {
   "cell_type": "code",
   "execution_count": 11,
   "metadata": {},
   "outputs": [],
   "source": [
    "import adodbapi\n",
    "import pandas as pd\n",
    "from sklearn.model_selection import train_test_split\n",
    "from sklearn.metrics import mean_squared_error\n",
    "from sklearn.linear_model import LinearRegression\n",
    "from sklearn.linear_model import LogisticRegression\n",
    "from sklearn.metrics import accuracy_score, classification_report\n",
    "# import matplotlib.pyplot as plt"
   ]
  },
  {
   "cell_type": "code",
   "execution_count": 7,
   "metadata": {},
   "outputs": [],
   "source": [
    "server = \"REVISION-PC\"\n",
    "catalog = \"2023_CQ_BI_13_OLAP\"\n",
    "cube = \"CQ BI 13 DDS\"\n",
    "\n",
    "conn_str = f\"Provider=MSOLAP;Data Source={server};Initial Catalog={catalog};\""
   ]
  },
  {
   "cell_type": "code",
   "execution_count": 8,
   "metadata": {},
   "outputs": [
    {
     "name": "stdout",
     "output_type": "stream",
     "text": [
      "Mean Squared Error: 9.921166522352237\n"
     ]
    }
   ],
   "source": [
    "# Predict the number of products that will be sold\n",
    "try:\n",
    "    with adodbapi.connect(conn_str) as conn:\n",
    "        cursor = conn.cursor()\n",
    "        \n",
    "        sql_stmt = \"\"\"\n",
    "            SELECT NON EMPTY { [Measures].[Total Sold Products] } ON COLUMNS, \n",
    "            NON EMPTY { \n",
    "                (\n",
    "                    [Dim Product].[Product Id].[Product Id].ALLMEMBERS\n",
    "                    * [Dim Branch].[Branch Id].[Branch Id].ALLMEMBERS\n",
    "                    * [Dim Payment Type].[Payment Type Id].[Payment Type Id].ALLMEMBERS \n",
    "                    * [Dim Customer Type].[Customer Type Id].[Customer Type Id].ALLMEMBERS\n",
    "                    * [Dim Datetime].[Day Number].[Day Number].ALLMEMBERS \n",
    "                    * [Dim Datetime].[Month Number].[Month Number].ALLMEMBERS \n",
    "                    * [Dim Datetime].[Year Number].[Year Number].ALLMEMBERS \n",
    "                ) \n",
    "            } DIMENSION PROPERTIES MEMBER_CAPTION, MEMBER_UNIQUE_NAME ON ROWS \n",
    "            FROM [CQ BI 13 DDS]\n",
    "        \"\"\"\n",
    "\n",
    "        cursor.execute(sql_stmt)\n",
    "        rows = cursor.fetchall()\n",
    "\n",
    "    result = [\n",
    "        {\n",
    "            \"product_id\": row[0],\n",
    "            \"branch_id\": row[2],\n",
    "            \"payment_type_id\": row[4],\n",
    "            \"customer_type_id\": row[6],\n",
    "            \"day\": row[8],\n",
    "            \"month\": row[10],\n",
    "            \"year\": row[12],\n",
    "            \"total_sold_products\": row[14]\n",
    "        } for row in rows\n",
    "    ]\n",
    "\n",
    "    df = pd.DataFrame(result)\n",
    "    y = df[\"total_sold_products\"]\n",
    "    X = df.drop([\"total_sold_products\"], axis=1)\n",
    "    X_train, X_test, y_train, y_test = train_test_split(X, y, test_size=0.2, random_state=42)\n",
    "    \n",
    "    model = LinearRegression()\n",
    "    model.fit(X_train, y_train)\n",
    "    predictions = model.predict(X_test)\n",
    "    mse = mean_squared_error(y_test, predictions)\n",
    "    print(f\"Mean Squared Error: {mse}\")\n",
    "\n",
    "except adodbapi.DatabaseError as ex:\n",
    "    print(\"Connection error:\", ex)\n"
   ]
  },
  {
   "cell_type": "code",
   "execution_count": 9,
   "metadata": {},
   "outputs": [
    {
     "name": "stdout",
     "output_type": "stream",
     "text": [
      "[5.55171889]\n"
     ]
    },
    {
     "name": "stderr",
     "output_type": "stream",
     "text": [
      "c:\\Users\\Thuan\\AppData\\Local\\Programs\\Python\\Python39\\lib\\site-packages\\sklearn\\base.py:465: UserWarning: X does not have valid feature names, but LinearRegression was fitted with feature names\n",
      "  warnings.warn(\n"
     ]
    }
   ],
   "source": [
    "prediction = model.predict([[2, 1, 3, 1, 27, 1, 2019]])\n",
    "print(prediction)"
   ]
  },
  {
   "cell_type": "code",
   "execution_count": 29,
   "metadata": {},
   "outputs": [
    {
     "ename": "ValueError",
     "evalue": "continuous is not supported",
     "output_type": "error",
     "traceback": [
      "\u001b[1;31m---------------------------------------------------------------------------\u001b[0m",
      "\u001b[1;31mValueError\u001b[0m                                Traceback (most recent call last)",
      "\u001b[1;32mc:\\Users\\Thuan\\Desktop\\Workspace\\2023_CQ_BI_13\\mining.ipynb Cell 8\u001b[0m line \u001b[0;36m6\n\u001b[0;32m     <a href='vscode-notebook-cell:/c%3A/Users/Thuan/Desktop/Workspace/2023_CQ_BI_13/mining.ipynb#X10sZmlsZQ%3D%3D?line=55'>56</a>\u001b[0m model\u001b[39m.\u001b[39mfit(X_train, y_train)\n\u001b[0;32m     <a href='vscode-notebook-cell:/c%3A/Users/Thuan/Desktop/Workspace/2023_CQ_BI_13/mining.ipynb#X10sZmlsZQ%3D%3D?line=57'>58</a>\u001b[0m y_pred \u001b[39m=\u001b[39m model\u001b[39m.\u001b[39mpredict(X_test)\n\u001b[1;32m---> <a href='vscode-notebook-cell:/c%3A/Users/Thuan/Desktop/Workspace/2023_CQ_BI_13/mining.ipynb#X10sZmlsZQ%3D%3D?line=59'>60</a>\u001b[0m accuracy \u001b[39m=\u001b[39m accuracy_score(y_test, y_pred)\n\u001b[0;32m     <a href='vscode-notebook-cell:/c%3A/Users/Thuan/Desktop/Workspace/2023_CQ_BI_13/mining.ipynb#X10sZmlsZQ%3D%3D?line=60'>61</a>\u001b[0m report \u001b[39m=\u001b[39m classification_report(y_test, y_pred)\n\u001b[0;32m     <a href='vscode-notebook-cell:/c%3A/Users/Thuan/Desktop/Workspace/2023_CQ_BI_13/mining.ipynb#X10sZmlsZQ%3D%3D?line=62'>63</a>\u001b[0m \u001b[39mprint\u001b[39m(\u001b[39mf\u001b[39m\u001b[39m\"\u001b[39m\u001b[39mAccuracy: \u001b[39m\u001b[39m{\u001b[39;00maccuracy\u001b[39m}\u001b[39;00m\u001b[39m\"\u001b[39m)\n",
      "File \u001b[1;32mc:\\Users\\Thuan\\AppData\\Local\\Programs\\Python\\Python39\\lib\\site-packages\\sklearn\\utils\\_param_validation.py:214\u001b[0m, in \u001b[0;36mvalidate_params.<locals>.decorator.<locals>.wrapper\u001b[1;34m(*args, **kwargs)\u001b[0m\n\u001b[0;32m    208\u001b[0m \u001b[39mtry\u001b[39;00m:\n\u001b[0;32m    209\u001b[0m     \u001b[39mwith\u001b[39;00m config_context(\n\u001b[0;32m    210\u001b[0m         skip_parameter_validation\u001b[39m=\u001b[39m(\n\u001b[0;32m    211\u001b[0m             prefer_skip_nested_validation \u001b[39mor\u001b[39;00m global_skip_validation\n\u001b[0;32m    212\u001b[0m         )\n\u001b[0;32m    213\u001b[0m     ):\n\u001b[1;32m--> 214\u001b[0m         \u001b[39mreturn\u001b[39;00m func(\u001b[39m*\u001b[39margs, \u001b[39m*\u001b[39m\u001b[39m*\u001b[39mkwargs)\n\u001b[0;32m    215\u001b[0m \u001b[39mexcept\u001b[39;00m InvalidParameterError \u001b[39mas\u001b[39;00m e:\n\u001b[0;32m    216\u001b[0m     \u001b[39m# When the function is just a wrapper around an estimator, we allow\u001b[39;00m\n\u001b[0;32m    217\u001b[0m     \u001b[39m# the function to delegate validation to the estimator, but we replace\u001b[39;00m\n\u001b[0;32m    218\u001b[0m     \u001b[39m# the name of the estimator by the name of the function in the error\u001b[39;00m\n\u001b[0;32m    219\u001b[0m     \u001b[39m# message to avoid confusion.\u001b[39;00m\n\u001b[0;32m    220\u001b[0m     msg \u001b[39m=\u001b[39m re\u001b[39m.\u001b[39msub(\n\u001b[0;32m    221\u001b[0m         \u001b[39mr\u001b[39m\u001b[39m\"\u001b[39m\u001b[39mparameter of \u001b[39m\u001b[39m\\\u001b[39m\u001b[39mw+ must be\u001b[39m\u001b[39m\"\u001b[39m,\n\u001b[0;32m    222\u001b[0m         \u001b[39mf\u001b[39m\u001b[39m\"\u001b[39m\u001b[39mparameter of \u001b[39m\u001b[39m{\u001b[39;00mfunc\u001b[39m.\u001b[39m\u001b[39m__qualname__\u001b[39m\u001b[39m}\u001b[39;00m\u001b[39m must be\u001b[39m\u001b[39m\"\u001b[39m,\n\u001b[0;32m    223\u001b[0m         \u001b[39mstr\u001b[39m(e),\n\u001b[0;32m    224\u001b[0m     )\n",
      "File \u001b[1;32mc:\\Users\\Thuan\\AppData\\Local\\Programs\\Python\\Python39\\lib\\site-packages\\sklearn\\metrics\\_classification.py:220\u001b[0m, in \u001b[0;36maccuracy_score\u001b[1;34m(y_true, y_pred, normalize, sample_weight)\u001b[0m\n\u001b[0;32m    154\u001b[0m \u001b[39m\u001b[39m\u001b[39m\"\"\"Accuracy classification score.\u001b[39;00m\n\u001b[0;32m    155\u001b[0m \n\u001b[0;32m    156\u001b[0m \u001b[39mIn multilabel classification, this function computes subset accuracy:\u001b[39;00m\n\u001b[1;32m   (...)\u001b[0m\n\u001b[0;32m    216\u001b[0m \u001b[39m0.5\u001b[39;00m\n\u001b[0;32m    217\u001b[0m \u001b[39m\"\"\"\u001b[39;00m\n\u001b[0;32m    219\u001b[0m \u001b[39m# Compute accuracy for each possible representation\u001b[39;00m\n\u001b[1;32m--> 220\u001b[0m y_type, y_true, y_pred \u001b[39m=\u001b[39m _check_targets(y_true, y_pred)\n\u001b[0;32m    221\u001b[0m check_consistent_length(y_true, y_pred, sample_weight)\n\u001b[0;32m    222\u001b[0m \u001b[39mif\u001b[39;00m y_type\u001b[39m.\u001b[39mstartswith(\u001b[39m\"\u001b[39m\u001b[39mmultilabel\u001b[39m\u001b[39m\"\u001b[39m):\n",
      "File \u001b[1;32mc:\\Users\\Thuan\\AppData\\Local\\Programs\\Python\\Python39\\lib\\site-packages\\sklearn\\metrics\\_classification.py:104\u001b[0m, in \u001b[0;36m_check_targets\u001b[1;34m(y_true, y_pred)\u001b[0m\n\u001b[0;32m    102\u001b[0m \u001b[39m# No metrics support \"multiclass-multioutput\" format\u001b[39;00m\n\u001b[0;32m    103\u001b[0m \u001b[39mif\u001b[39;00m y_type \u001b[39mnot\u001b[39;00m \u001b[39min\u001b[39;00m [\u001b[39m\"\u001b[39m\u001b[39mbinary\u001b[39m\u001b[39m\"\u001b[39m, \u001b[39m\"\u001b[39m\u001b[39mmulticlass\u001b[39m\u001b[39m\"\u001b[39m, \u001b[39m\"\u001b[39m\u001b[39mmultilabel-indicator\u001b[39m\u001b[39m\"\u001b[39m]:\n\u001b[1;32m--> 104\u001b[0m     \u001b[39mraise\u001b[39;00m \u001b[39mValueError\u001b[39;00m(\u001b[39m\"\u001b[39m\u001b[39m{0}\u001b[39;00m\u001b[39m is not supported\u001b[39m\u001b[39m\"\u001b[39m\u001b[39m.\u001b[39mformat(y_type))\n\u001b[0;32m    106\u001b[0m \u001b[39mif\u001b[39;00m y_type \u001b[39min\u001b[39;00m [\u001b[39m\"\u001b[39m\u001b[39mbinary\u001b[39m\u001b[39m\"\u001b[39m, \u001b[39m\"\u001b[39m\u001b[39mmulticlass\u001b[39m\u001b[39m\"\u001b[39m]:\n\u001b[0;32m    107\u001b[0m     y_true \u001b[39m=\u001b[39m column_or_1d(y_true)\n",
      "\u001b[1;31mValueError\u001b[0m: continuous is not supported"
     ]
    }
   ],
   "source": [
    "# # Detect shopping trends and predict sales.\n",
    "\n",
    "# with adodbapi.connect(conn_str) as conn:\n",
    "#     cursor = conn.cursor()\n",
    "    \n",
    "#     sql_stmt = \"\"\"\n",
    "#         SELECT NON EMPTY { \n",
    "#             [Measures].[Total Sold Products], \n",
    "#             [Measures].[Total Rating Score], \n",
    "#             [Measures].[Total Purchase Times], \n",
    "#             [Measures].[Total Income], \n",
    "#             [Measures].[Total Female Customers] \n",
    "#         } ON COLUMNS, \n",
    "#         NON EMPTY { \n",
    "#             (\n",
    "#                 [Dim Product].[Product Id].[Product Id].ALLMEMBERS\n",
    "#             )\n",
    "#         } DIMENSION PROPERTIES MEMBER_CAPTION, MEMBER_UNIQUE_NAME ON ROWS \n",
    "#         FROM [CQ BI 13 DDS]\n",
    "#     \"\"\"\n",
    "\n",
    "#     cursor.execute(sql_stmt)\n",
    "#     rows = cursor.fetchall()\n",
    "\n",
    "# result = []\n",
    "\n",
    "# for row in rows:\n",
    "#     result.append(\n",
    "#         {\n",
    "#             \"product_id\": row[0],\n",
    "#             \"total_sold_products\": row[2],\n",
    "#             \"total_rating_score\": row[3],\n",
    "#             \"total_purchase_times\": row[4],\n",
    "#             \"total_income\": row[5],\n",
    "#             \"total_female_customers\": row[6]\n",
    "#         }\n",
    "#     )\n",
    "\n",
    "# selected_columns = [\n",
    "#     'total_sold_products', \n",
    "#     'total_purchase_times', \n",
    "#     'total_income', \n",
    "#     'total_female_customers', \n",
    "#     'product_id',\n",
    "#     'total_rating_score'\n",
    "# ]\n",
    "# df = pd.DataFrame(result)\n",
    "# df = df.dropna(subset=selected_columns)\n",
    "\n",
    "# X = df[selected_columns[:-1]]\n",
    "# y = df['total_rating_score']\n",
    "\n",
    "# X_train, X_test, y_train, y_test = train_test_split(X, y, test_size=0.2, random_state=42)\n",
    "\n",
    "# model = LogisticRegression(random_state=42, max_iter=1000)\n",
    "# model.fit(X_train, y_train)\n",
    "\n",
    "# y_pred = model.predict(X_test)\n",
    "\n",
    "# accuracy = accuracy_score(y_test, y_pred)\n",
    "# report = classification_report(y_test, y_pred)\n",
    "\n",
    "# print(f\"Accuracy: {accuracy}\")\n",
    "# print(\"Classification Report:\")\n",
    "# print(report)\n"
   ]
  }
 ],
 "metadata": {
  "kernelspec": {
   "display_name": "Python 3",
   "language": "python",
   "name": "python3"
  },
  "language_info": {
   "codemirror_mode": {
    "name": "ipython",
    "version": 3
   },
   "file_extension": ".py",
   "mimetype": "text/x-python",
   "name": "python",
   "nbconvert_exporter": "python",
   "pygments_lexer": "ipython3",
   "version": "3.9.0"
  },
  "orig_nbformat": 4
 },
 "nbformat": 4,
 "nbformat_minor": 2
}
