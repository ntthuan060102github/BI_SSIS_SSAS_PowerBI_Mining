{
 "cells": [
  {
   "cell_type": "code",
   "execution_count": 2,
   "metadata": {},
   "outputs": [],
   "source": [
    "!python -m venv venv"
   ]
  },
  {
   "cell_type": "code",
   "execution_count": 3,
   "metadata": {},
   "outputs": [],
   "source": [
    "!venv\\Scripts\\activate"
   ]
  },
  {
   "cell_type": "code",
   "execution_count": null,
   "metadata": {},
   "outputs": [],
   "source": [
    "%pip install pandas scikit-learn\n",
    "%pip install pyodbc"
   ]
  },
  {
   "cell_type": "code",
   "execution_count": null,
   "metadata": {},
   "outputs": [],
   "source": [
    "# DRIVER={ODBC Driver 17 for SQL Server};SERVER=REVISION-PC;DATABASE=CQ_BI_13_DDS;Trusted_connection=yes"
   ]
  },
  {
   "cell_type": "code",
   "execution_count": 42,
   "metadata": {},
   "outputs": [
    {
     "name": "stderr",
     "output_type": "stream",
     "text": [
      "C:\\Users\\Thuan\\AppData\\Local\\Temp\\ipykernel_17044\\3677594992.py:35: UserWarning: pandas only supports SQLAlchemy connectable (engine/connection) or database string URI or sqlite3 DBAPI2 connection. Other DBAPI2 objects are not tested. Please consider using SQLAlchemy.\n",
      "  df = pd.read_sql(sql, conn)\n"
     ]
    },
    {
     "name": "stdout",
     "output_type": "stream",
     "text": [
      "Mean Squared Error: 10.287367487684731\n"
     ]
    },
    {
     "ename": "ValueError",
     "evalue": "y contains previously unseen labels: 'Cash'",
     "output_type": "error",
     "traceback": [
      "\u001b[1;31m---------------------------------------------------------------------------\u001b[0m",
      "\u001b[1;31mKeyError\u001b[0m                                  Traceback (most recent call last)",
      "File \u001b[1;32mc:\\Users\\Thuan\\AppData\\Local\\Programs\\Python\\Python39\\lib\\site-packages\\sklearn\\utils\\_encode.py:225\u001b[0m, in \u001b[0;36m_encode\u001b[1;34m(values, uniques, check_unknown)\u001b[0m\n\u001b[0;32m    224\u001b[0m \u001b[39mtry\u001b[39;00m:\n\u001b[1;32m--> 225\u001b[0m     \u001b[39mreturn\u001b[39;00m _map_to_integer(values, uniques)\n\u001b[0;32m    226\u001b[0m \u001b[39mexcept\u001b[39;00m \u001b[39mKeyError\u001b[39;00m \u001b[39mas\u001b[39;00m e:\n",
      "File \u001b[1;32mc:\\Users\\Thuan\\AppData\\Local\\Programs\\Python\\Python39\\lib\\site-packages\\sklearn\\utils\\_encode.py:165\u001b[0m, in \u001b[0;36m_map_to_integer\u001b[1;34m(values, uniques)\u001b[0m\n\u001b[0;32m    164\u001b[0m table \u001b[39m=\u001b[39m _nandict({val: i \u001b[39mfor\u001b[39;00m i, val \u001b[39min\u001b[39;00m \u001b[39menumerate\u001b[39m(uniques)})\n\u001b[1;32m--> 165\u001b[0m \u001b[39mreturn\u001b[39;00m np\u001b[39m.\u001b[39marray([table[v] \u001b[39mfor\u001b[39;00m v \u001b[39min\u001b[39;00m values])\n",
      "File \u001b[1;32mc:\\Users\\Thuan\\AppData\\Local\\Programs\\Python\\Python39\\lib\\site-packages\\sklearn\\utils\\_encode.py:165\u001b[0m, in \u001b[0;36m<listcomp>\u001b[1;34m(.0)\u001b[0m\n\u001b[0;32m    164\u001b[0m table \u001b[39m=\u001b[39m _nandict({val: i \u001b[39mfor\u001b[39;00m i, val \u001b[39min\u001b[39;00m \u001b[39menumerate\u001b[39m(uniques)})\n\u001b[1;32m--> 165\u001b[0m \u001b[39mreturn\u001b[39;00m np\u001b[39m.\u001b[39marray([table[v] \u001b[39mfor\u001b[39;00m v \u001b[39min\u001b[39;00m values])\n",
      "File \u001b[1;32mc:\\Users\\Thuan\\AppData\\Local\\Programs\\Python\\Python39\\lib\\site-packages\\sklearn\\utils\\_encode.py:159\u001b[0m, in \u001b[0;36m_nandict.__missing__\u001b[1;34m(self, key)\u001b[0m\n\u001b[0;32m    158\u001b[0m     \u001b[39mreturn\u001b[39;00m \u001b[39mself\u001b[39m\u001b[39m.\u001b[39mnan_value\n\u001b[1;32m--> 159\u001b[0m \u001b[39mraise\u001b[39;00m \u001b[39mKeyError\u001b[39;00m(key)\n",
      "\u001b[1;31mKeyError\u001b[0m: 'Cash'",
      "\nDuring handling of the above exception, another exception occurred:\n",
      "\u001b[1;31mValueError\u001b[0m                                Traceback (most recent call last)",
      "\u001b[1;32mc:\\Users\\Thuan\\Desktop\\Workspace\\hcmus_2023_business_intelligence__ssis\\mining.ipynb Cell 5\u001b[0m line \u001b[0;36m6\n\u001b[0;32m     <a href='vscode-notebook-cell:/c%3A/Users/Thuan/Desktop/Workspace/hcmus_2023_business_intelligence__ssis/mining.ipynb#W3sZmlsZQ%3D%3D?line=46'>47</a>\u001b[0m \u001b[39mprint\u001b[39m(\u001b[39mf\u001b[39m\u001b[39m'\u001b[39m\u001b[39mMean Squared Error: \u001b[39m\u001b[39m{\u001b[39;00mmse\u001b[39m}\u001b[39;00m\u001b[39m'\u001b[39m)\n\u001b[0;32m     <a href='vscode-notebook-cell:/c%3A/Users/Thuan/Desktop/Workspace/hcmus_2023_business_intelligence__ssis/mining.ipynb#W3sZmlsZQ%3D%3D?line=47'>48</a>\u001b[0m new_data \u001b[39m=\u001b[39m pd\u001b[39m.\u001b[39mDataFrame({\n\u001b[0;32m     <a href='vscode-notebook-cell:/c%3A/Users/Thuan/Desktop/Workspace/hcmus_2023_business_intelligence__ssis/mining.ipynb#W3sZmlsZQ%3D%3D?line=48'>49</a>\u001b[0m     \u001b[39m'\u001b[39m\u001b[39mbranch_id\u001b[39m\u001b[39m'\u001b[39m: [\u001b[39m1\u001b[39m],\n\u001b[0;32m     <a href='vscode-notebook-cell:/c%3A/Users/Thuan/Desktop/Workspace/hcmus_2023_business_intelligence__ssis/mining.ipynb#W3sZmlsZQ%3D%3D?line=49'>50</a>\u001b[0m     \u001b[39m'\u001b[39m\u001b[39mcustomer_type_id\u001b[39m\u001b[39m'\u001b[39m: [\u001b[39m2\u001b[39m],\n\u001b[1;32m   (...)\u001b[0m\n\u001b[0;32m     <a href='vscode-notebook-cell:/c%3A/Users/Thuan/Desktop/Workspace/hcmus_2023_business_intelligence__ssis/mining.ipynb#W3sZmlsZQ%3D%3D?line=58'>59</a>\u001b[0m     \u001b[39m'\u001b[39m\u001b[39myear_number\u001b[39m\u001b[39m'\u001b[39m: [\u001b[39m2022\u001b[39m]\n\u001b[0;32m     <a href='vscode-notebook-cell:/c%3A/Users/Thuan/Desktop/Workspace/hcmus_2023_business_intelligence__ssis/mining.ipynb#W3sZmlsZQ%3D%3D?line=59'>60</a>\u001b[0m })\n\u001b[1;32m---> <a href='vscode-notebook-cell:/c%3A/Users/Thuan/Desktop/Workspace/hcmus_2023_business_intelligence__ssis/mining.ipynb#W3sZmlsZQ%3D%3D?line=60'>61</a>\u001b[0m new_data[\u001b[39m'\u001b[39m\u001b[39mpayment_type_name\u001b[39m\u001b[39m'\u001b[39m] \u001b[39m=\u001b[39m label_encoder\u001b[39m.\u001b[39;49mtransform(new_data[\u001b[39m'\u001b[39;49m\u001b[39mpayment_type_name\u001b[39;49m\u001b[39m'\u001b[39;49m])\n\u001b[0;32m     <a href='vscode-notebook-cell:/c%3A/Users/Thuan/Desktop/Workspace/hcmus_2023_business_intelligence__ssis/mining.ipynb#W3sZmlsZQ%3D%3D?line=61'>62</a>\u001b[0m new_data[\u001b[39m'\u001b[39m\u001b[39mcustomer_type_name\u001b[39m\u001b[39m'\u001b[39m] \u001b[39m=\u001b[39m label_encoder\u001b[39m.\u001b[39mtransform(new_data[\u001b[39m'\u001b[39m\u001b[39mcustomer_type_name\u001b[39m\u001b[39m'\u001b[39m])\n\u001b[0;32m     <a href='vscode-notebook-cell:/c%3A/Users/Thuan/Desktop/Workspace/hcmus_2023_business_intelligence__ssis/mining.ipynb#W3sZmlsZQ%3D%3D?line=62'>63</a>\u001b[0m new_data[\u001b[39m'\u001b[39m\u001b[39mcity_name\u001b[39m\u001b[39m'\u001b[39m] \u001b[39m=\u001b[39m label_encoder\u001b[39m.\u001b[39mtransform(new_data[\u001b[39m'\u001b[39m\u001b[39mcity_name\u001b[39m\u001b[39m'\u001b[39m])\n",
      "File \u001b[1;32mc:\\Users\\Thuan\\AppData\\Local\\Programs\\Python\\Python39\\lib\\site-packages\\sklearn\\preprocessing\\_label.py:137\u001b[0m, in \u001b[0;36mLabelEncoder.transform\u001b[1;34m(self, y)\u001b[0m\n\u001b[0;32m    134\u001b[0m \u001b[39mif\u001b[39;00m _num_samples(y) \u001b[39m==\u001b[39m \u001b[39m0\u001b[39m:\n\u001b[0;32m    135\u001b[0m     \u001b[39mreturn\u001b[39;00m np\u001b[39m.\u001b[39marray([])\n\u001b[1;32m--> 137\u001b[0m \u001b[39mreturn\u001b[39;00m _encode(y, uniques\u001b[39m=\u001b[39;49m\u001b[39mself\u001b[39;49m\u001b[39m.\u001b[39;49mclasses_)\n",
      "File \u001b[1;32mc:\\Users\\Thuan\\AppData\\Local\\Programs\\Python\\Python39\\lib\\site-packages\\sklearn\\utils\\_encode.py:227\u001b[0m, in \u001b[0;36m_encode\u001b[1;34m(values, uniques, check_unknown)\u001b[0m\n\u001b[0;32m    225\u001b[0m         \u001b[39mreturn\u001b[39;00m _map_to_integer(values, uniques)\n\u001b[0;32m    226\u001b[0m     \u001b[39mexcept\u001b[39;00m \u001b[39mKeyError\u001b[39;00m \u001b[39mas\u001b[39;00m e:\n\u001b[1;32m--> 227\u001b[0m         \u001b[39mraise\u001b[39;00m \u001b[39mValueError\u001b[39;00m(\u001b[39mf\u001b[39m\u001b[39m\"\u001b[39m\u001b[39my contains previously unseen labels: \u001b[39m\u001b[39m{\u001b[39;00m\u001b[39mstr\u001b[39m(e)\u001b[39m}\u001b[39;00m\u001b[39m\"\u001b[39m)\n\u001b[0;32m    228\u001b[0m \u001b[39melse\u001b[39;00m:\n\u001b[0;32m    229\u001b[0m     \u001b[39mif\u001b[39;00m check_unknown:\n",
      "\u001b[1;31mValueError\u001b[0m: y contains previously unseen labels: 'Cash'"
     ]
    }
   ],
   "source": [
    "import pandas as pd\n",
    "import pyodbc\n",
    "from sklearn.model_selection import train_test_split\n",
    "from sklearn.ensemble import RandomForestRegressor\n",
    "from sklearn.metrics import mean_squared_error\n",
    "from sklearn.preprocessing import LabelEncoder\n",
    "\n",
    "connection_string = 'DRIVER={ODBC Driver 17 for SQL Server};SERVER=REVISION-PC;DATABASE=CQ_BI_13_DDS;Trusted_connection=yes'\n",
    "conn = pyodbc.connect(connection_string)\n",
    "\n",
    "sql = \"\"\"\n",
    "    SELECT\n",
    "    fp.total_sold_products,\n",
    "    fp.branch_id,\n",
    "    fp.customer_type_id,\n",
    "    fp.payment_type_id,\n",
    "    fp.datetime_id,\n",
    "    dp.payment_type_name,\n",
    "    dct.customer_type_name,\n",
    "    dpr.unit_price,  -- Assuming 'unit_price' is in the 'dim_product' table\n",
    "    db.city_name,\n",
    "    dd.day_number,\n",
    "    dm.month_number,\n",
    "    dy.year_number\n",
    "FROM fact_purchase fp\n",
    "JOIN dim_payment_type dp ON fp.payment_type_id = dp.payment_type_id\n",
    "JOIN dim_customer_type dct ON fp.customer_type_id = dct.customer_type_id\n",
    "JOIN dim_product dpr ON fp.product_id = dpr.product_id  -- Join with dim_product to get 'unit_price'\n",
    "JOIN dim_branch db ON fp.branch_id = db.branch_id\n",
    "JOIN dim_datetime ddt ON fp.datetime_id = ddt.datetime_id\n",
    "JOIN dim_day dd ON ddt.day_id = dd.day_id\n",
    "JOIN dim_month dm ON dd.month_id = dm.month_id\n",
    "JOIN dim_year dy ON dm.year_id = dy.year_id\n",
    "\"\"\"\n",
    "df = pd.read_sql(sql, conn)\n",
    "label_encoder = LabelEncoder()\n",
    "df['payment_type_name'] = label_encoder.fit_transform(df['payment_type_name'])\n",
    "df['customer_type_name'] = label_encoder.fit_transform(df['customer_type_name'])\n",
    "df['city_name'] = label_encoder.fit_transform(df['city_name'])\n",
    "X = df.drop('total_sold_products', axis=1)\n",
    "y = df['total_sold_products']\n",
    "X_train, X_test, y_train, y_test = train_test_split(X, y, test_size=0.2, random_state=42)\n",
    "model = RandomForestRegressor()\n",
    "model.fit(X_train, y_train)\n",
    "predictions = model.predict(X_test)\n",
    "mse = mean_squared_error(y_test, predictions)\n",
    "print(f'Mean Squared Error: {mse}')\n",
    "new_data = pd.DataFrame({\n",
    "    'branch_id': [1],\n",
    "    'customer_type_id': [2],\n",
    "    'payment_type_id': [3],\n",
    "    'datetime_id': [4],\n",
    "    'payment_type_name': ['Credit card'],\n",
    "    'customer_type_name': ['Member'],\n",
    "    'unit_price': [10.5],\n",
    "    'city_name': ['CityA'],\n",
    "    'day_number': [15],\n",
    "    'month_number': [6],\n",
    "    'year_number': [2022]\n",
    "})\n",
    "new_data['payment_type_name'] = label_encoder.transform(new_data['payment_type_name'])\n",
    "new_data['customer_type_name'] = label_encoder.transform(new_data['customer_type_name'])\n",
    "new_data['city_name'] = label_encoder.transform(new_data['city_name'])\n",
    "new_predictions = model.predict(new_data)\n",
    "print(f'Predicted total_sold_products: {new_predictions[0]}')"
   ]
  }
 ],
 "metadata": {
  "kernelspec": {
   "display_name": "Python 3",
   "language": "python",
   "name": "python3"
  },
  "language_info": {
   "codemirror_mode": {
    "name": "ipython",
    "version": 3
   },
   "file_extension": ".py",
   "mimetype": "text/x-python",
   "name": "python",
   "nbconvert_exporter": "python",
   "pygments_lexer": "ipython3",
   "version": "3.9.0"
  },
  "orig_nbformat": 4
 },
 "nbformat": 4,
 "nbformat_minor": 2
}
